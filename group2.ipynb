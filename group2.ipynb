{
 "cells": [
  {
   "cell_type": "markdown",
   "metadata": {},
   "source": [
    "# Predicting Coronary Heart Disease (CHD)"
   ]
  },
  {
   "cell_type": "markdown",
   "metadata": {},
   "source": [
    "## Table of contents\n",
    "\n",
    "* [Introduction](#Introduction)\n",
    "\n",
    "* [Problem Statement](#problem-statement)\n",
    "\n",
    "    * [Project Objectives](#the-projects-main-aim-is-to)\n",
    "    \n",
    "* [Business Understanding](#business-understanding)\n",
    "\n",
    "    * [Global prevalence](#global-prevalence)\n",
    "\n",
    "    * [Key causes](#key-causes)\n",
    "\n",
    "    * [Initiatives to reduce heart disease prevalence](#initiatives-to-reduce-heart-disease-prevalence)\n",
    "\n",
    "    * [Current Status](#current-status)\n",
    "\n",
    "* [Data Understanding](#data-understanding)\n",
    "\n",
    "    * [Demographic risk factors](#demographic-risk-factors)\n",
    "\n",
    "    * [Behavioral](#behavioral)\n",
    "\n",
    "    * [Medical](#medical-history)\n",
    "        * [History](#medical-history)\n",
    "        * [Current](#medicalcurrent)\n",
    "\n",
    "    * [Predict variable](#predict-variable-desired-target)\n",
    "\n",
    "* [Data Cleaning](#data-cleaning)\n",
    "\n",
    "* [Univariate and Bivariate analysis](#univariate-bivariate-multivariate-analysis)\n",
    "\n",
    "* [Modelling](#modeling)\n",
    "\n",
    "* [Ensembling](#ensemble-methods)\n",
    "\n",
    "* [Conclusions](#conclusions)\n",
    "\n",
    "* [Recommendation](#recommendations)"
   ]
  },
  {
   "cell_type": "markdown",
   "metadata": {},
   "source": [
    "# Introduction\n",
    "\n",
    "![image](heart_image1.jpeg)"
   ]
  },
  {
   "cell_type": "markdown",
   "metadata": {},
   "source": [
    "Cardiovascular (heart) diseases are a leading cause of death globally, taking an estimated 17.9 million lives each year and imposing a significant burden on public health systems (WHO, 2023). Cardiometabolic, behavioral, environmental, and social risk factors are major drivers of heart diseases.\n",
    "\n",
    "According to WHO, timely and accurate prediction of heart diseases likelihood can play a crucial role in improving patient outcomes and optimizing healthcare resources. There are four main types of cardiovascular diseases i.e.,: coronary heart diease, stroke, peripheral arterial disease and aortic disease (NHS, 2023).\n",
    "\n",
    "In this project we will be focussing on coronary heart disease (CHD). We will leverage a publicly available Heart disease dataset containing various health-related features to develop predictive models that can assess the risk of CHD in patients.\n",
    "\n",
    "The primary objective of this project is to build a comprehensive heart disease prediction system that can assist healthcare professionals in identifying individuals at high risk of developing CHD related complications to enable early intervention."
   ]
  },
  {
   "cell_type": "markdown",
   "metadata": {},
   "source": [
    "# Problem statement"
   ]
  },
  {
   "cell_type": "markdown",
   "metadata": {},
   "source": [
    "Heart diseases are a leading cause of premature death globally and are on the rise worldwide due to behavioural risk factors such as unhealthy diet, physical inactivity, tobacco use and harmful use of alcohol. The effects of behavioural risk factors may show up in individuals as raised blood pressure, raised blood glucose, raised blood lipids and overweight, and obesity. According to WHO these “intermediate risks factors” can be measured in primary care facilities and indicate an increased risk of heart attack, stroke, heart failure and other complications.\n",
    "\n",
    "According to WHO, 4 out of 5 of heart disease deaths are premature i.e. occuring in people under 70 years. Additionally, positive change of behavioural factors in individuals has been shown to reduce the risk of heart disease.\n",
    "\n",
    "In this project, by using dataset attributes such as age, gender, blood pressure, cholesterol levels, and other relevant medical parameters, we aim to create predictive models capable of identifying individuals at high risk of developing heart-related complications.\n",
    "\n",
    "#### The project's main aim is to:\n",
    "\n",
    "* Assist healthcare professionals in early detection and proactive management of coronary heart disease.\n",
    "* By prioritizing high-risk patients for further diagnostic evaluations and interventions, the predictive models can contribute to improved patient outcomes and reduced healthcare costs.\n",
    "* Uncover meaningful patterns and risk factors associated with heart disease, enabling targeted preventive measures and personalized treatment plans."
   ]
  },
  {
   "cell_type": "markdown",
   "metadata": {},
   "source": [
    "# Business Understanding "
   ]
  },
  {
   "cell_type": "markdown",
   "metadata": {},
   "source": [
    "Heart diseases encompass a group of disorders that affect the heart and blood vessels, leading to various complications such as heart attacks, strokes, and heart failure. They represent a significant global health challenge and are responsible for a substantial burden of morbidity and mortality worldwide.\n",
    "\n",
    "#### Global Prevalence:\n",
    "Heart diseases are a leading cause of death globally. According to the World Health Organization (WHO), an estimated 17.9 million people die from CVDs every year, accounting for approximately 31% of all global deaths. The prevalence of CVDs varies across regions, with a high burden increasingly being observed in low- and middle-income countries.\n",
    "\n",
    "#### Key Causes:\n",
    "Several key risk factors contribute to the development of heart related diseases. The major modifiable risk factors include:\n",
    "\n",
    "* High Blood Pressure: Hypertension is a significant risk factor for CVDs, leading to increased stress on the heart and blood vessels.\n",
    "\n",
    "* Unhealthy Diet: Diets high in salt, saturated and trans fats, and low in fruits and vegetables contribute to CVD development.\n",
    "\n",
    "* Physical Inactivity: Lack of regular physical activity is associated with an increased risk of heart diseases.\n",
    "\n",
    "* Tobacco Use: Smoking and exposure to secondhand smoke significantly elevate the risk of CVDs.\n",
    "\n",
    "* Obesity: Being overweight or obese is a major risk factor for various cardiovascular conditions.\n",
    "\n",
    "* Diabetes: Uncontrolled diabetes is a potent risk factor for heart disease.\n",
    "\n",
    "* Excessive Alcohol Consumption: Heavy alcohol intake can lead to hypertension and heart muscle damage.\n",
    "\n",
    "#### Initiatives to reduce heart disease prevalence:\n",
    "To combat the burden of cardiovascular diseases, numerous initiatives have been implemented worldwide in varying degree by various countries. Some key initiatives include:\n",
    "\n",
    "1. Public Awareness Campaigns: Governments and health organizations run awareness campaigns to educate the public about heart-healthy lifestyles and risk factors.\n",
    "\n",
    "2. Tobacco Control Programs: Efforts to reduce smoking prevalence and control tobacco use help in lowering CVD rates.\n",
    "\n",
    "3. Promoting Healthy Diets: Initiatives that advocate for healthier eating habits encourage the consumption of balanced diets low in unhealthy fats, salt, and sugar.\n",
    "\n",
    "4. Physical Activity Promotion: Encouraging regular physical exercise and active lifestyles to improve heart health.\n",
    "\n",
    "5. Access to Healthcare: Ensuring access to affordable and quality healthcare services for early diagnosis and treatment of CVDs.\n",
    "\n",
    "6. Research and Innovation: Funding research to better understand heart dieases and develop advanced treatment options.\n",
    "\n",
    "#### Current Status:\n",
    "Despite significant efforts to combat cardiovascular diseases, they remain a major global health burden. Some progress has been made in reducing the prevalence of certain risk factors and improving treatment outcomes, but challenges persist, particularly in low-resource settings. The COVID-19 pandemic also posed challenges to heart disease management and prevention due to disruptions in healthcare systems and lifestyle changes.\n",
    "\n",
    "In conclusion, heart diseases continue to pose a considerable global health challenge, demanding sustained efforts to address their modifiable risk factors and promote heart-healthy behaviors. Through public health initiatives, advocacy, and research, it is possible to reduce the burden of hear diseases and improve the overall cardiovascular health of populations worldwide."
   ]
  },
  {
   "cell_type": "markdown",
   "metadata": {},
   "source": [
    "# Data Understanding"
   ]
  },
  {
   "cell_type": "markdown",
   "metadata": {},
   "source": [
    "The dataset is available on the Kaggle website, and it is from an ongoing cardiovascular study on residents of the town of Framingham, Massachusetts. The classification goal is to predict whether a patient has 10-year risk of future coronary heart disease (CHD).The dataset provides the patients’ information. It includes over 4,000 records and 15 attributes.\n",
    "\n",
    "Features - Each attribute is a potential risk factor. There are both demographic, behavioral and medical risk factors.\n",
    "\n",
    "##### Demographic risk factors:\n",
    "* Sex: male or female(Nominal)\n",
    "* Age: Age of the patient;(Continuous - Although the recorded ages have been truncated to whole numbers, the concept of age is continuous)\n",
    "##### Behavioral\n",
    "* Current Smoker: whether or not the patient is a current smoker (Nominal)\n",
    "* Cigs Per Day: the number of cigarettes that the person smoked on average in one day.(can be considered continuous as one can have any number of cigarettes, even half a cigarette.)\n",
    "##### Medical( history)\n",
    "* BP Meds: whether or not the patient was on blood pressure medication (Nominal)\n",
    "* Prevalent Stroke: whether or not the patient had previously had a stroke (Nominal)\n",
    "* Prevalent Hyp: whether or not the patient was hypertensive (Nominal)\n",
    "* Diabetes: whether or not the patient had diabetes (Nominal)\n",
    "##### Medical(current)\n",
    "* Tot Chol: total cholesterol level (Continuous)\n",
    "* Sys BP: systolic blood pressure (Continuous)\n",
    "* Dia BP: diastolic blood pressure (Continuous)\n",
    "* BMI: Body Mass Index (Continuous)\n",
    "* Heart Rate: heart rate (Continuous - In medical research, variables such as heart rate though in fact discrete, yet are considered continuous because of large number of possible values.)\n",
    "* Glucose: glucose level (Continuous)\n",
    "##### Predict variable (desired target)\n",
    "10 year risk of coronary heart disease CHD (binary: “1”, means “Yes”, “0” means “No”)\n"
   ]
  },
  {
   "cell_type": "markdown",
   "metadata": {},
   "source": [
    "# Data Cleaning"
   ]
  },
  {
   "cell_type": "markdown",
   "metadata": {},
   "source": [
    "# Univariate, Bivariate, Multivariate analysis"
   ]
  },
  {
   "cell_type": "markdown",
   "metadata": {},
   "source": [
    "Performing univariate, bivariate, and multivariate analysis on the Framingham cardiovascular dataset is essential to gain insights into the relationships between different risk factors and the target variable, which is the 10-year risk of future coronary heart disease (CHD). These analyses will help you understand the dataset, identify patterns, correlations, and potential predictive features, as well as prepare the data for modeling.\n",
    "\n",
    "1. Univariate Analysis:\n",
    "Univariate analysis involves exploring each attribute individually. It allows you to understand the distribution, central tendency, and spread of each variable. Here's why it's important for this dataset:\n",
    "\n",
    "a. Identify Outliers: Univariate analysis helps detect outliers in numerical variables like age, BMI, cholesterol levels, and blood pressure, which can impact the accuracy of predictive models.\n",
    "\n",
    "b. Understand Distributions: Examining the distributions of variables like heart rate, glucose level, and cigarettes smoked per day provides insights into their skewness, which can guide data preprocessing and transformation.\n",
    "\n",
    "c. Impute Missing Values: Univariate analysis helps identify missing values in each attribute. Proper handling of missing data is crucial to avoid bias and improve model performance.\n",
    "\n",
    "2. Bivariate Analysis:\n",
    "Bivariate analysis involves examining the relationship between two variables. In this context, it helps uncover correlations between different risk factors and the 10-year CHD risk. Here's why it's important:\n",
    "\n",
    "a. Identify Correlations: Bivariate analysis can reveal how individual risk factors, such as cholesterol levels or blood pressure, relate to the likelihood of CHD. Identifying strong correlations can highlight potential risk factors for further investigation.\n",
    "\n",
    "b. Feature Selection: Understanding which attributes have a strong association with the target variable aids in selecting the most relevant features for building a predictive model.\n",
    "\n",
    "3. Multivariate Analysis:\n",
    "Multivariate analysis involves exploring relationships between multiple variables simultaneously. It is crucial for understanding complex interactions between different risk factors and their combined impact on CHD risk. Here's why it's important:\n",
    "\n",
    "a. Assess Multicollinearity: Multivariate analysis helps detect multicollinearity among predictors, which can lead to inflated model coefficients and reduced model interpretability.\n",
    "\n",
    "b. Model Building: By considering multiple risk factors together, you can build more robust predictive models that account for various factors influencing CHD risk.\n",
    "\n",
    "c. Interaction Effects: Multivariate analysis can uncover interaction effects between risk factors, where the impact of one variable on CHD risk depends on the level of another variable.\n",
    "\n",
    "In summary, performing univariate, bivariate, and multivariate analyses on the Framingham cardiovascular dataset is essential for gaining insights, identifying relevant risk factors, and preparing the data for predictive modeling. This thorough exploration will help you build a more accurate and interpretable model for predicting the 10-year risk of coronary heart disease in patients."
   ]
  },
  {
   "cell_type": "code",
   "execution_count": null,
   "metadata": {},
   "outputs": [],
   "source": []
  },
  {
   "cell_type": "markdown",
   "metadata": {},
   "source": [
    "# Modeling"
   ]
  },
  {
   "cell_type": "markdown",
   "metadata": {},
   "source": [
    "# Ensemble methods"
   ]
  },
  {
   "cell_type": "markdown",
   "metadata": {},
   "source": [
    "# Conclusions "
   ]
  },
  {
   "cell_type": "markdown",
   "metadata": {},
   "source": [
    "# Recommendations"
   ]
  },
  {
   "cell_type": "code",
   "execution_count": null,
   "metadata": {},
   "outputs": [],
   "source": []
  }
 ],
{
  "metadata": {
    "kernelspec": {
      "display_name": "Python (learn-env)",
      "language": "python",
      "name": "python3"
    },
    "language_info": {
      "codemirror_mode": {
        "name": "ipython",
        "version": 3
      },
      "file_extension": ".py",
      "mimetype": "text/x-python",
      "name": "python",
      "nbconvert_exporter": "python",
      "pygments_lexer": "ipython3",
      "version": "3.10.9"
    }
  },
  "nbformat": 4,
  "nbformat_minor": 2
}

